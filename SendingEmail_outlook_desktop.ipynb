{
 "cells": [
  {
   "cell_type": "code",
   "execution_count": 1,
   "id": "f95d7704",
   "metadata": {},
   "outputs": [],
   "source": [
    "import win32com.client as win32\n",
    "import pandas as pd\n",
    "\n",
    "\n",
    "\n",
    "gerentes_df = pd.read_excel(r'C:\\Users\\Usuario\\Downloads\\Enviar E-mails.xlsx')\n",
    "#gerentes_df.info()\n",
    "for i,email in enumerate (gerentes_df['E-mail']):\n",
    "    gerente = gerentes_df.loc[i,'Gerente']\n",
    "    area = gerentes_df.loc[i,'Relatório']\n",
    "   \n",
    "    outlook = win32.Dispatch(\"Outlook.Application\")\n",
    "    mail = outlook.CreateItem(0)\n",
    "    mail.To = email\n",
    "    mail.Subject = \"Relatório de {}\".format(area)\n",
    "    mail.Body = ''' Prezado {},\n",
    "\n",
    "    Segue em anexo o Relatório de {}, conforme solicitado.\n",
    "\n",
    "    Qualquer dúvida estou à disposição.\n",
    "\n",
    "    Att.\n",
    "\n",
    "'''.format(gerente,area)\n",
    "\n",
    "    attachment = r'C:\\Users\\Usuario\\Downloads\\{}.xlsx'.format(area)\n",
    "    mail.Attachments.Add(attachment)\n",
    "\n",
    "    mail.Send()"
   ]
  }
 ],
 "metadata": {
  "kernelspec": {
   "display_name": "Python 3 (ipykernel)",
   "language": "python",
   "name": "python3"
  },
  "language_info": {
   "codemirror_mode": {
    "name": "ipython",
    "version": 3
   },
   "file_extension": ".py",
   "mimetype": "text/x-python",
   "name": "python",
   "nbconvert_exporter": "python",
   "pygments_lexer": "ipython3",
   "version": "3.11.4"
  }
 },
 "nbformat": 4,
 "nbformat_minor": 5
}
